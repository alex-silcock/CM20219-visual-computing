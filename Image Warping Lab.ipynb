{
 "cells": [
  {
   "cell_type": "markdown",
   "id": "3d3616c1",
   "metadata": {},
   "source": [
    "# CM20219 – Image Warping Lab\n",
    "\n",
    "This lab will explore image warping.\n",
    "You should download the supporting images from the lab page on the auto-marker, and put them into the same directory as this notebook."
   ]
  },
  {
   "cell_type": "code",
   "execution_count": null,
   "id": "e0afb435",
   "metadata": {},
   "outputs": [],
   "source": [
    "import numpy as np\n",
    "import matplotlib.pyplot as plt"
   ]
  },
  {
   "cell_type": "code",
   "execution_count": null,
   "id": "12dccee4",
   "metadata": {},
   "outputs": [],
   "source": [
    "## Make figures larger.\n",
    "plt.rcParams['figure.figsize'] = [10, 6]\n",
    "\n",
    "## Try commenting this out if plots look blurry on your screen.\n",
    "# %config InlineBackend.figure_format = 'retina'"
   ]
  },
  {
   "cell_type": "markdown",
   "id": "6e29ccd5",
   "metadata": {},
   "source": [
    "----\n",
    "## 1. Forward mapping [25 marks]\n",
    "\n",
    "Let us start by implementing image warping using forward mapping.\n",
    "Every pixel in the source image is transformed to the target image independently, leading to gaps between the transformed pixels in the target image.\n",
    "\n",
    "Feel free to experiment by changing the transformation ‘M’, for example by changing the rotation angle or the scaling transform, or using a random transformation (commented out)."
   ]
  },
  {
   "cell_type": "code",
   "execution_count": null,
   "id": "06c4306f",
   "metadata": {},
   "outputs": [],
   "source": [
    "source = plt.imread('mona.jpg') / 255.\n",
    "\n",
    "## Basic transformations to manipulate the source image.\n",
    "T = np.array([[1, 0, -source.shape[1] / 2],\n",
    "              [0, 1, -source.shape[0] / 2],\n",
    "              [0, 0, 1]])\n",
    "t = np.pi / 4\n",
    "R = np.array([[np.cos(t), -np.sin(t), 0],\n",
    "              [np.sin(t),  np.cos(t), 0],\n",
    "              [ 0, 0, 1]])\n",
    "S = np.diag([2, 2, 1])\n",
    "\n",
    "## The warping transformation (rotation about arbitrary point).\n",
    "M = np.linalg.inv(T) @ R @ S @ T\n",
    "\n",
    "# ## The auto-marker tries out random transformations like this.\n",
    "# M = np.random.rand(3, 3)\n",
    "# M[:2,2] = 200 * M[:2,2] - 10\n",
    "# M[2] = 0.001 * M[2]\n",
    "# M[2,2] = 1\n",
    "# M = np.linalg.inv(T) @ M @ np.diag(np.random.rand(3)) @ T"
   ]
  },
  {
   "cell_type": "markdown",
   "id": "3c34ead1",
   "metadata": {},
   "source": [
    "a) Implement a function to transform a point (x, y) using a homogeneous 2D transform matrix. [10 marks]"
   ]
  },
  {
   "cell_type": "code",
   "execution_count": null,
   "id": "d26c65b3",
   "metadata": {},
   "outputs": [],
   "source": [
    "def transform_pixel_nn(x, y, transform):\n",
    "    \"\"\"Transforms a source pixel coordinate (x, y) using 'transform', and rounds to the nearest pixel\n",
    "    coordinate. Returns a tuple (x', y').\"\"\"\n",
    "\n",
    "    ## TASK: Replace this code with your own implementation.\n",
    "    return (0, 0)"
   ]
  },
  {
   "cell_type": "markdown",
   "id": "d1cc0d41",
   "metadata": {},
   "source": [
    "b) Implement forward mapping using your per-pixel transform function. [15 marks]"
   ]
  },
  {
   "cell_type": "code",
   "execution_count": null,
   "id": "ad6d481b",
   "metadata": {},
   "outputs": [],
   "source": [
    "def forward_mapping(source, transform):\n",
    "    \"\"\"Warps the 'source' image by the given 'transform' using forward mapping.\"\"\"\n",
    "\n",
    "    ## TASK: Replace this code with your own implementation.\n",
    "    return np.zeros_like(source)\n",
    "\n",
    "\n",
    "## Visualise input (left) and warped output (right).\n",
    "target = forward_mapping(source, M)\n",
    "plt.imshow(np.hstack([source, target]))\n",
    "plt.axis(\"off\");"
   ]
  },
  {
   "cell_type": "markdown",
   "id": "c6453942",
   "metadata": {},
   "source": [
    "----\n",
    "## 2. Backward mapping [15 marks]\n",
    "\n",
    "Based on your implementation of “forward_mapping”, or otherwise, implement backward mapping using the same 2D transformation ‘M’.\n",
    "Backward mapping computes for each target image pixel where in the source image it originated, and uses the colour sampled from the nearest pixel.\n",
    "Note that this should not leave any gaps in the warped image."
   ]
  },
  {
   "cell_type": "code",
   "execution_count": null,
   "id": "38efabd3",
   "metadata": {},
   "outputs": [],
   "source": [
    "def backward_mapping(source, transform):\n",
    "    \"\"\"Warps the 'source' image by the given 'transform' using backward mapping with nearest-neighbour interpolation.\"\"\"\n",
    "    \n",
    "    ## TASK: Replace this code with your own implementation.\n",
    "    return np.zeros_like(source)\n",
    "\n",
    "\n",
    "## Visualise input (left) and warped output (right).\n",
    "target = backward_mapping(source, M)\n",
    "plt.imshow(np.hstack([source, target]))\n",
    "plt.axis(\"off\");"
   ]
  },
  {
   "cell_type": "markdown",
   "id": "27d9bd4e",
   "metadata": {},
   "source": [
    "----\n",
    "## 3. Linear interpolation [20 marks]\n",
    "\n",
    "a) Extend your backward-mapping function to sample pixel colours from the source image using bilinear interpolation. [15 marks]\n",
    "\n",
    "b) Handle the edge cases carefully for full marks, i.e. fade to black when sampling pixels on the boundary of the source image. [5 marks]\n",
    "\n",
    "Hint: It may be helpful to use the commented-out transformations `M`."
   ]
  },
  {
   "cell_type": "code",
   "execution_count": null,
   "id": "225ca5e4",
   "metadata": {},
   "outputs": [],
   "source": [
    "def backward_mapping_bilinear(source, transform):\n",
    "    \"\"\"Warps the 'source' image by the given 'transform' using backward mapping with bilinear interpolation.\"\"\"\n",
    "    \n",
    "    ## TASK: Replace this code with your own implementation.\n",
    "    return np.zeros_like(source)\n",
    "\n",
    "\n",
    "## Compare nearest-neighbour (left) and bilinear interpolation (right) side by side.\n",
    "M = np.array([[12, 0, -2486], [0, 12, -2508], [0, 0, 1]])  # big smile\n",
    "# M = np.array([[40, 0, 80], [0, 40, 80], [0, 0, 1]])  # check edge handling\n",
    "target_nearest  = backward_mapping(source, M)\n",
    "target_bilinear = backward_mapping_bilinear(source, M)\n",
    "plt.imshow(np.hstack([target_nearest, target_bilinear]))\n",
    "plt.axis(\"off\");"
   ]
  },
  {
   "cell_type": "markdown",
   "id": "3121141f",
   "metadata": {},
   "source": [
    "----\n",
    "## 4. Lens undistortion [40 marks]\n",
    "\n",
    "This exercise applies a different warping function that is commonly used for removing lens\n",
    "distortion from images, i.e. to make straight lines straight again.\n",
    "\n",
    "The polynomial lens distortion model uses the following steps for computing the location $(u', v')$ to sample from the source image for a target image location $(u, v)$:\n",
    "\n",
    "$$\\begin{align}\n",
    "x &= (u - p_x) / f_x \\\\\n",
    "y &= (v - p_y) / f_y \\\\\n",
    "r^2 &= x^2 + y^2 \\\\\n",
    "x' &= x \\cdot (1 + k_1 r^2 + k_2 r^4 + k_3 r^6) \\\\\n",
    "y' &= y \\cdot (1 + k_1 r^2 + k_2 r^4 + k_3 r^6) \\\\\n",
    "u' &= x' \\cdot f_x + p_x \\\\\n",
    "v' &= y' \\cdot f_y + p_y\n",
    "\\end{align}$$\n",
    "\n",
    "Here, $f_x$ and $f_y$ are the focal lengths of the camera, $(p_x, p_y)$ is called the _principal point_ or _centre of projection_, and $k_1$, $k_2$, $k_3$ are _lens distortion coefficients_.\n",
    "\n",
    "a) Implement polynomial lens undistortion using the steps above for a single pixel (u, v). [10 marks]\n",
    "\n",
    "Recall that:\n",
    "* The `camera_matrix` is defined as $\\mathbf{K} = \\begin{bmatrix}f_x & 0 & p_x \\\\ 0 & f_y & p_y \\\\ 0 & 0 & 1\\end{bmatrix}$.\n",
    "* The lens distortion coefficients `dist_coeffs` are given as $\\begin{bmatrix}k_1 & k_2 & k_3\\end{bmatrix}$."
   ]
  },
  {
   "cell_type": "code",
   "execution_count": null,
   "id": "1eeb7e22",
   "metadata": {},
   "outputs": [],
   "source": [
    "def undistort_point(u, v, camera_matrix, dist_coeffs):\n",
    "    \"\"\"Undistorts a pixel's coordinates (u, v) using the given camera matrix and\n",
    "    distortion coefficients. Returns a tuple (u', v').\"\"\"\n",
    "\n",
    "    ## TASK: Replace this code with your own implementation.\n",
    "    return 0, 0"
   ]
  },
  {
   "cell_type": "markdown",
   "id": "f7c59c07",
   "metadata": {},
   "source": [
    "b) Implement polynomial lens undistortion for a given image using your `undistort_point` function above and backward mapping with bilinear interpolation. [10 marks]"
   ]
  },
  {
   "cell_type": "code",
   "execution_count": null,
   "id": "9b67e5c4",
   "metadata": {},
   "outputs": [],
   "source": [
    "def undistort_image(image, camera_matrix, dist_coeffs):\n",
    "    \"\"\"Undistorts an image using the given camera matrix and distortion coefficients.\"\"\"\n",
    "\n",
    "    ## TASK: Replace this code with your own implementation.\n",
    "    return np.zeros_like(image)\n",
    "\n",
    "\n",
    "## The intrinsic camera matrix and lens undistortion coefficients for the test image.\n",
    "source = plt.imread('window.jpg') / 255.\n",
    "camera_matrix = np.array([[474.53, 0, 405.96], [0, 474.53, 217.81], [0, 0, 1]])\n",
    "dist_coeffs = np.array([-0.27194, 0.11517, -0.029859])\n",
    "\n",
    "## Visualise input (top) and undistorted output (bottom).\n",
    "target = undistort_image(source, camera_matrix, dist_coeffs)\n",
    "plt.rcParams['figure.figsize'] = [10, 10]\n",
    "plt.imshow(np.vstack([source, target]))\n",
    "plt.axis(\"off\");"
   ]
  },
  {
   "cell_type": "markdown",
   "id": "68e303f8",
   "metadata": {},
   "source": [
    "----\n",
    "c) **Advanced:** Implement fast image undistortion using vectorisation, without any for-loops. Your function should run in less than 3 seconds. [20 marks]"
   ]
  },
  {
   "cell_type": "code",
   "execution_count": null,
   "id": "2bab7052",
   "metadata": {},
   "outputs": [],
   "source": [
    "def undistort_image_vectorised(image, camera_matrix, dist_coeffs):\n",
    "    \"\"\"Undistorts an image using the given camera matrix and distortion coefficients.\n",
    "    Use vectorised operations to avoid slow for loops.\"\"\"\n",
    "\n",
    "    ## TASK: Replace this code with your own implementation.\n",
    "    return np.zeros_like(image)\n",
    "\n",
    "\n",
    "# Visualise input (top) and undistorted output (bottom).\n",
    "target = undistort_image_vectorised(source, camera_matrix, dist_coeffs)\n",
    "plt.rcParams['figure.figsize'] = [10, 10]\n",
    "plt.imshow(np.vstack([source, target]))\n",
    "plt.axis(\"off\");"
   ]
  }
 ],
 "metadata": {
  "kernelspec": {
   "display_name": "Python 3 (ipykernel)",
   "language": "python",
   "name": "python3"
  },
  "language_info": {
   "codemirror_mode": {
    "name": "ipython",
    "version": 3
   },
   "file_extension": ".py",
   "mimetype": "text/x-python",
   "name": "python",
   "nbconvert_exporter": "python",
   "pygments_lexer": "ipython3",
   "version": "3.9.7"
  }
 },
 "nbformat": 4,
 "nbformat_minor": 5
}
