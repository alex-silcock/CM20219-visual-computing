{
  "cells": [
    {
      "cell_type": "code",
      "execution_count": 560,
      "metadata": {
        "id": "la0BX-q5AyGR"
      },
      "outputs": [],
      "source": [
        "import numpy as np\n",
        "import matplotlib.pyplot as plt"
      ]
    },
    {
      "cell_type": "markdown",
      "metadata": {
        "id": "n_bCG19spMBC"
      },
      "source": [
        "# Q1a Cubic Bezier curves in matrix form (10 marks)\n",
        "Implement a function that takes the 4 control points of a cubic Bezier curve, $P$, as a 4x2 Numpy array and the arc parameter, $t$, as a Nx1 Numpy array. The function must sample the Bezier curve at the arc parameter points and return the sampled points, $Y$, in a Nx2 Numpy array.\n",
        "\n",
        "The matrix form of Bezier curves is described by the following:\n",
        "\n",
        "$Y = T \\cdot B \\cdot P$\n",
        "\n",
        "$B$ is the Bernstein matrix which is a 3x3 matrix for cubic Bezier curves:\n",
        "\\begin{bmatrix}\n",
        "1 & 0 & 0 & 0 \\\\\n",
        "-3 & 3 & 0 & 0 \\\\\n",
        "3 & -6 & 3 & 0 \\\\\n",
        "-1 & 3 & -3 & 1\n",
        "\\end{bmatrix}\n",
        "\n",
        "$T$ is the monomial basis matrix of size Nx4. Each row corresponds to an arc parameter and is constucted as: $[1, t, t^2, t^3]$"
      ]
    },
    {
      "cell_type": "code",
      "execution_count": 561,
      "metadata": {
        "id": "a4oEyPDptSYy"
      },
      "outputs": [],
      "source": [
        "def cubic_bezier(t,P):\n",
        "    \"\"\"Samples a cubic bezier\"\"\"\n",
        "    t2 = t * t\n",
        "    t3 = t2 * t\n",
        "    mt = 1-t\n",
        "    mt2 = mt * mt\n",
        "    mt3 = mt2 * mt\n",
        "    # Y = (P[0] * mt3) + (3 * P[1] * mt2 * t) + (3 * P[2] * mt * t2) + (P[3] * t3)\n",
        "    Y = P[0] * (-t3 + 3*t2 - 3*t + 1) + P[1] * (3*t3-6*t2+3*t) + P[2] * (-3*t3+3*t2) + P[3] * t3\n",
        "    return Y\n"
      ]
    },
    {
      "cell_type": "markdown",
      "metadata": {
        "id": "NBOQma_MIEsQ"
      },
      "source": [
        "# Test your code!\n",
        "\n",
        "Run this cell to test your code. You can do additional tests as well to be more certain about your implementation.\n",
        "\n",
        "We have included a number of ground truth solutions that you can use to verify that your implementation is correct."
      ]
    },
    {
      "cell_type": "code",
      "execution_count": 562,
      "metadata": {
        "colab": {
          "base_uri": "https://localhost:8080/",
          "height": 352
        },
        "id": "KVKEteyYBT-g",
        "outputId": "85e6f820-a7ad-4fd2-a78d-9a5cdf003463"
      },
      "outputs": [
        {
          "name": "stdout",
          "output_type": "stream",
          "text": [
            "Is curve 0 sampled correctly? True\n",
            "Is curve 1 sampled correctly? True\n",
            "Is curve 2 sampled correctly? True\n",
            "Is curve 3 sampled correctly? True\n"
          ]
        },
        {
          "data": {
            "image/png": "[encoded data removed]",
            "text/plain": [
              "<Figure size 1152x288 with 4 Axes>"
            ]
          },
          "metadata": {
            "needs_background": "light"
          },
          "output_type": "display_data"
        }
      ],
      "source": [
        "curve_control_points = [\n",
        "    np.array([[10,10],[30,10],[30,70],[80,80]]),\n",
        "    np.array([[70,10],[50,30],[30,70],[20,10]]),\n",
        "    np.array([[50,50],[90,90],[10,90],[90,10]]),\n",
        "    np.array([[50,90],[50,10],[10,10],[80,80]]),\n",
        "]\n",
        "\n",
        "curve_sample_points = [\n",
        "    np.array([[10,      10     ], [22.34375, 19.53125], [33.75,    41.25   ], [50.78125, 64.84375], [80,      80.     ]]),\n",
        "    np.array([[70,   10     ], [55.15625, 26.875  ], [41.25,    40.     ], [29.21875, 38.125  ], [20,      10.     ]]),\n",
        "    np.array([[50,    50.   ], [61.875, 71.875], [55,    75.   ], [55.625, 55.625], [90,    10.   ]]),\n",
        "    np.array([[50,      90.     ], [44.84375, 44.84375], [38.75,    28.75   ], [45.78125, 40.78125], [80,      80.     ]]),\n",
        "]\n",
        "\n",
        "##We have provided some ground truth answers\n",
        "for i,P in enumerate(curve_control_points):\n",
        "    t = np.reshape(np.linspace(0,1,5),(-1,1))\n",
        "    sampled_bezier_points = cubic_bezier(t,P)\n",
        "    print(\"Is curve\",i,\"sampled correctly?\",np.allclose(sampled_bezier_points,curve_sample_points[i]))\n",
        "##\n",
        "\n",
        "##Here we visualise the curves\n",
        "fig,ax = plt.subplots(1,len(curve_control_points),figsize=(16,4))\n",
        "for i,P in enumerate(curve_control_points):\n",
        "    t = np.reshape(np.linspace(0,1,20),(-1,1))\n",
        "    sampled_bezier_points = cubic_bezier(t,P)\n",
        "    ax[i].plot(sampled_bezier_points[:,0],sampled_bezier_points[:,1])\n",
        "    ax[i].set_title(\"Curve \"+str(i))\n",
        "    ax[i].scatter(sampled_bezier_points[:,0],sampled_bezier_points[:,1])\n",
        "    ax[i].scatter(P[:,0],P[:,1])\n",
        "plt.show()"
      ]
    },
    {
      "cell_type": "markdown",
      "metadata": {
        "id": "wl1KgowC5j47"
      },
      "source": [
        "# Q1b Calculating the normalised tangent vector along a cubic Bezier curve (10 marks)\n",
        "\n",
        "The tangent vector of a Bezier curve (and curves in general) describes the direction of the curve at a specific point. In other words, the gradient of the curve trajectory, $y$, with respect to the arc parameter, $t$.\n",
        "\\begin{align}\n",
        "Y =& T\\cdot B \\cdot P\\\\\n",
        "\\frac{dY}{dt} =& \\frac{dT}{dt} \\cdot B \\cdot P\\\\\n",
        "\\end{align}\n",
        "\n",
        "This is very similar to Q1a, the key difference is that we need to differentiate the monomial basis matrix with respect to $t$.\n",
        "\n",
        "Make sure to normalise the tangents prior to returning them!"
      ]
    },
    {
      "cell_type": "code",
      "execution_count": 599,
      "metadata": {
        "id": "_vP-UP1I5jtU"
      },
      "outputs": [],
      "source": [
        "def cubic_bezier_tangents(t,P):\n",
        "    \"\"\"Samples a cubic bezier and finds the normal to the tangent at each point\"\"\"\n",
        "\n",
        "    t2 = t * t\n",
        "    # the first derivative of a bezier curve\n",
        "    first_deriv = P[0] * (-3*t2+6*t-3) + P[1] * (9*t2-12*t+3) + P[2] * (-9*t2 + 6*t) + P[3] * (3*t2)\n",
        "    theta = -90\n",
        "    rotation_matrix = np.array([[np.cos(theta), -np.sin(theta)], [np.sin(theta), np.cos(theta)]])\n",
        "    # have to find the normal at each point\n",
        "    for i in range(len(first_deriv)):\n",
        "        first_deriv[i] = np.dot(rotation_matrix, first_deriv[i])\n",
        "    return first_deriv"
      ]
    },
    {
      "cell_type": "markdown",
      "metadata": {
        "id": "IxmoB2iCDoF4"
      },
      "source": [
        "# Test your code!\n",
        "\n",
        "Run this cell to test your code. You can do additional tests as well to be more certain about your implementation.\n",
        "\n",
        "We have included a number of ground truth solutions that you can use to verify that your implementation is correct."
      ]
    },
    {
      "cell_type": "code",
      "execution_count": 600,
      "metadata": {
        "colab": {
          "base_uri": "https://localhost:8080/",
          "height": 352
        },
        "id": "0MH5XvAJDcWu",
        "outputId": "3a889789-9d2e-402b-a568-41fb728de1c2"
      },
      "outputs": [
        {
          "name": "stdout",
          "output_type": "stream",
          "text": [
            "[array([[-16.875,  69.375],\n",
            "       [ -3.75 ,  48.75 ],\n",
            "       [ 22.5  ,   7.5  ],\n",
            "       [ 48.75 , -33.75 ],\n",
            "       [ 61.875, -54.375]]), array([[ -60.  ,  -60.  ],\n",
            "       [  26.25,   26.25],\n",
            "       [  45.  ,   45.  ],\n",
            "       [  -3.75,   -3.75],\n",
            "       [-120.  , -120.  ]])]\n",
            "Is curve 0 sampled correctly? False\n",
            "[array([[   1.875,    7.5  ],\n",
            "       [   3.75 ,  -15.   ],\n",
            "       [   7.5  ,  -60.   ],\n",
            "       [  11.25 , -105.   ],\n",
            "       [  13.125, -127.5  ]]), array([[ 120.   ,  120.   ],\n",
            "       [ 125.625,  125.625],\n",
            "       [  82.5  ,   82.5  ],\n",
            "       [  -9.375,   -9.375],\n",
            "       [-150.   , -150.   ]])]\n",
            "Is curve 1 sampled correctly? False\n",
            "[array([[-127.5,  -67.5],\n",
            "       [ -75. ,  -75. ],\n",
            "       [  30. ,  -90. ],\n",
            "       [ 135. , -105. ],\n",
            "       [ 187.5, -112.5]]), array([[   0.,    0.],\n",
            "       [  60.,   60.],\n",
            "       [   0.,    0.],\n",
            "       [-180., -180.],\n",
            "       [-480., -480.]])]\n",
            "Is curve 2 sampled correctly? False\n",
            "[array([[-31.875, 118.125],\n",
            "       [ -3.75 , 116.25 ],\n",
            "       [ 52.5  , 112.5  ],\n",
            "       [108.75 , 108.75 ],\n",
            "       [136.875, 106.875]]), array([[-240., -240.],\n",
            "       [ -90.,  -90.],\n",
            "       [   0.,    0.],\n",
            "       [  30.,   30.],\n",
            "       [   0.,    0.]])]\n",
            "Is curve 3 sampled correctly? False\n",
            "[array([[-10.74074074,  35.92592593],\n",
            "       [ -8.14814815,  31.85185185],\n",
            "       [ -2.96296296,  23.7037037 ],\n",
            "       [  2.22222222,  15.55555556],\n",
            "       [  7.40740741,   7.40740741],\n",
            "       [ 12.59259259,  -0.74074074],\n",
            "       [ 17.77777778,  -8.88888889],\n",
            "       [ 22.96296296, -17.03703704],\n",
            "       [ 28.14814815, -25.18518519],\n",
            "       [ 30.74074074, -29.25925926]]), array([[ -60.        ,  -60.        ],\n",
            "       [ -13.33333333,  -13.33333333],\n",
            "       [  20.        ,   20.        ],\n",
            "       [  40.        ,   40.        ],\n",
            "       [  46.66666667,   46.66666667],\n",
            "       [  40.        ,   40.        ],\n",
            "       [  20.        ,   20.        ],\n",
            "       [ -13.33333333,  -13.33333333],\n",
            "       [ -60.        ,  -60.        ],\n",
            "       [-120.        , -120.        ]])]\n",
            "[array([[  0.37037037,   8.88888889],\n",
            "       [  0.74074074,   4.44444444],\n",
            "       [  1.48148148,  -4.44444444],\n",
            "       [  2.22222222, -13.33333333],\n",
            "       [  2.96296296, -22.22222222],\n",
            "       [  3.7037037 , -31.11111111],\n",
            "       [  4.44444444, -40.        ],\n",
            "       [  5.18518519, -48.88888889],\n",
            "       [  5.92592593, -57.77777778],\n",
            "       [  6.2962963 , -62.22222222]]), array([[ 120.        ,  120.        ],\n",
            "       [ 128.51851852,  128.51851852],\n",
            "       [ 127.40740741,  127.40740741],\n",
            "       [ 116.66666667,  116.66666667],\n",
            "       [  96.2962963 ,   96.2962963 ],\n",
            "       [  66.2962963 ,   66.2962963 ],\n",
            "       [  26.66666667,   26.66666667],\n",
            "       [ -22.59259259,  -22.59259259],\n",
            "       [ -81.48148148,  -81.48148148],\n",
            "       [-150.        , -150.        ]])]\n",
            "[array([[-69.62962963, -28.14814815],\n",
            "       [-59.25925926, -29.62962963],\n",
            "       [-38.51851852, -32.59259259],\n",
            "       [-17.77777778, -35.55555556],\n",
            "       [  2.96296296, -38.51851852],\n",
            "       [ 23.7037037 , -41.48148148],\n",
            "       [ 44.44444444, -44.44444444],\n",
            "       [ 65.18518519, -47.40740741],\n",
            "       [ 85.92592593, -50.37037037],\n",
            "       [ 96.2962963 , -51.85185185]]), array([[   0.        ,    0.        ],\n",
            "       [  41.48148148,   41.48148148],\n",
            "       [  59.25925926,   59.25925926],\n",
            "       [  53.33333333,   53.33333333],\n",
            "       [  23.7037037 ,   23.7037037 ],\n",
            "       [ -29.62962963,  -29.62962963],\n",
            "       [-106.66666667, -106.66666667],\n",
            "       [-207.40740741, -207.40740741],\n",
            "       [-331.85185185, -331.85185185],\n",
            "       [-480.        , -480.        ]])]\n",
            "[array([[-21.11111111,  52.96296296],\n",
            "       [-15.55555556,  52.59259259],\n",
            "       [ -4.44444444,  51.85185185],\n",
            "       [  6.66666667,  51.11111111],\n",
            "       [ 17.77777778,  50.37037037],\n",
            "       [ 28.88888889,  49.62962963],\n",
            "       [ 40.        ,  48.88888889],\n",
            "       [ 51.11111111,  48.14814815],\n",
            "       [ 62.22222222,  47.40740741],\n",
            "       [ 67.77777778,  47.03703704]]), array([[-240.        , -240.        ],\n",
            "       [-165.92592593, -165.92592593],\n",
            "       [-103.7037037 , -103.7037037 ],\n",
            "       [ -53.33333333,  -53.33333333],\n",
            "       [ -14.81481481,  -14.81481481],\n",
            "       [  11.85185185,   11.85185185],\n",
            "       [  26.66666667,   26.66666667],\n",
            "       [  29.62962963,   29.62962963],\n",
            "       [  20.74074074,   20.74074074],\n",
            "       [   0.        ,    0.        ]])]\n"
          ]
        },
        {
          "data": {
            "image/png": "[encoded data removed]",
            "text/plain": [
              "<Figure size 1152x288 with 4 Axes>"
            ]
          },
          "metadata": {
            "needs_background": "light"
          },
          "output_type": "display_data"
        }
      ],
      "source": [
        "curve_control_points = [\n",
        "    np.array([[10,10],[30,10],[30,70],[80,80]]),\n",
        "    np.array([[70,10],[50,30],[30,70],[20,10]]),\n",
        "    np.array([[50,50],[90,90],[10,90],[90,10]]),\n",
        "    np.array([[50,90],[50,10],[10,10],[80,80]]),\n",
        "]\n",
        "\n",
        "curve_sampled_tangents = [\n",
        "    np.array([[0.99999998, 0.        ], [0.52793411, 0.84928531], [0.47409982, 0.88047109], [0.722308,   0.69157149], [0.98058067, 0.19611613]]),\n",
        "    np.array([[-0.70710677,  0.70710677], [-0.65252313,  0.75776879], [-0.86824313,  0.49613893], [-0.63473941, -0.77272624], [-0.16439899, -0.98639392]]),\n",
        "    np.array([[ 0.70710678,  0.70710678], [-0.14142135,  0.98994947], [-0.70710676, -0.70710676], [ 0.3807498,  -0.92467809], [ 0.70710678, -0.70710678]]),\n",
        "    np.array([[ 0,         -1.        ], [-0.25302774, -0.96745902], [-0.70710671, -0.70710671], [ 0.57842877,  0.81573288], [ 0.70710678,  0.70710678]]),\n",
        "]\n",
        "\n",
        "for i,P in enumerate(curve_control_points):\n",
        "    t = np.reshape(np.linspace(0,1,5),(-1,1))\n",
        "    sampled_bezier_points = cubic_bezier(t,P)\n",
        "    sampled_tangent_vectors = cubic_bezier_tangents(t,P)\n",
        "    print(\"Is curve\",i,\"sampled correctly?\",np.allclose(sampled_tangent_vectors,curve_sampled_tangents[i]))\n",
        "\n",
        "\n",
        "line_length = 3\n",
        "fig,ax = plt.subplots(1,len(curve_control_points),figsize=(16,4))\n",
        "for i,P in enumerate(curve_control_points):\n",
        "    t = np.reshape(np.linspace(0,1,10),(-1,1))\n",
        "\n",
        "    sampled_bezier_points = cubic_bezier(t,P)\n",
        "    sampled_tangent_vectors = cubic_bezier_tangents(t,P)\n",
        "    ax[i].scatter(sampled_bezier_points[:,0],sampled_bezier_points[:,1])\n",
        "    #for j in range(sampled_bezier_points.shape[0]):\n",
        "    x = [sampled_bezier_points[:,0]-line_length*sampled_tangent_vectors[:,0],sampled_bezier_points[:,0]+line_length*sampled_tangent_vectors[:,0]]\n",
        "    y = [sampled_bezier_points[:,1]-line_length*sampled_tangent_vectors[:,1],sampled_bezier_points[:,1]+line_length*sampled_tangent_vectors[:,1]]\n",
        "    ax[i].set_title(\"Curve \"+str(i))\n",
        "    ax[i].plot(x,y)\n",
        "    ax[i].scatter(P[:,0],P[:,1])\n",
        "plt.show()"
      ]
    },
    {
      "cell_type": "markdown",
      "metadata": {
        "id": "YyrGwMg-v_Q1"
      },
      "source": [
        "# Q1d Sampling Bezier Curves using De Casteljau's algorithm (10 marks)\n",
        "Sampling Bezier curves in matrix form requires computing the Bernstein matrix. This can be computationally challenging for high-order Bezier curves. An alternative method is to use De Casteljau's algorithm which negates the need to calculate the Bernstein matrix.\n",
        "\n",
        "De Casteljau's algorithm for a curve of order, $K$, is desribed by the following equations:\n",
        "\\begin{align}\n",
        "  y =& \\beta^K_0\\\\\n",
        "  \\beta^L_i =& (1-t) \\beta^{L-1}_i + t \\beta^{L-1}_{i+1}\\\\\n",
        "  \\beta^0_i =& P_i\n",
        "\\end{align}\n",
        "$y$ is the sampled points and $\\beta$ are the intermediate points.\n",
        "\n",
        "Here are some examples for $\\beta$:\n",
        "\\begin{align}\n",
        "  \\beta^4_0 = (1-t) \\beta^3_0 + t \\beta^3_1\\\\\n",
        "  \\beta^1_2 = (1-t) \\beta^0_2 + t \\beta^0_3\\\\\n",
        "\\end{align}\n",
        "\n",
        "For this task you must implement de Casteljau's algorithm. The function signature is similar to Q1a, however, this time it can receive an arbitrary number of control points.\n",
        "\n",
        "Sucessfully implementing the algorithm scores 10 marks. An additional 5 marks are granted if you do not use for or while loops."
      ]
    },
    {
      "cell_type": "code",
      "execution_count": null,
      "metadata": {
        "id": "g_27jnUCv-z8"
      },
      "outputs": [],
      "source": [
        "def bezier_decasteljau(t,P,L=None):\n",
        "    if L is None:\n",
        "        L = P.shape[0]-1\n",
        "    ## TASK - implement de Cateljau's algorithm here\n",
        "    ## t is an Mx1 array\n",
        "    ## P is an Nx2 array\n",
        "    ## L is a scalar value representing at which level you want to stop the calculation (i.e. the superscript index for beta). E.g. L=2 will return the values for \\beta^2\n",
        "    ## Returns beta - an (N-L)x2xM array\n",
        "    ## Hint: This is 4 lines or less if you use vectorisation\n",
        "    beta = np.zeros(((P.shape[0]-L),2,t.shape[0]))\n",
        "    return beta"
      ]
    },
    {
      "cell_type": "markdown",
      "metadata": {
        "id": "_YVxH3M3DefW"
      },
      "source": [
        "# Test your code!\n",
        "\n",
        "Run this cell to test your code. You can do additional tests as well to be more certain about your implementation.\n",
        "\n",
        "We have included a number of ground truth solutions that you can use to verify that your implementation is correct.\n",
        "\n",
        "The plots demonstrates De Casteljau's algorithm graphically. It samples a Bezier curve by recursively interpolating between the values of $\\beta$ at each level. The blue line is the original set of points (i.e. $\\beta^0$), the orange ones are $\\beta^1$, the green line follows $\\beta^2$ and the red dot is $\\beta^4_0$."
      ]
    },
    {
      "cell_type": "code",
      "execution_count": null,
      "metadata": {
        "colab": {
          "base_uri": "https://localhost:8080/",
          "height": 336
        },
        "id": "t0fw4WWlpaDi",
        "outputId": "bef01bdb-552b-4aa3-ffa2-daf29e79e8d5"
      },
      "outputs": [
        {
          "name": "stdout",
          "output_type": "stream",
          "text": [
            "Is curve 0 sampled correctly? False\n",
            "Is curve 1 sampled correctly? False\n",
            "Is curve 2 sampled correctly? False\n",
            "Is curve 3 sampled correctly? False\n"
          ]
        },
        {
          "data": {
            "image/png": "[encoded data removed]",
            "text/plain": [
              "<Figure size 1152x288 with 4 Axes>"
            ]
          },
          "metadata": {
            "needs_background": "light"
          },
          "output_type": "display_data"
        }
      ],
      "source": [
        "curve_control_points = [\n",
        "    np.array([[10,10],[30,10],[30,70],[80,80]]),\n",
        "    np.array([[70,10],[50,30],[30,70],[20,10]]),\n",
        "    np.array([[50,50],[90,90],[10,90],[90,10]]),\n",
        "    np.array([[50,90],[50,10],[10,10],[80,80]]),\n",
        "]\n",
        "\n",
        "curve_sample_points = [\n",
        "    np.array([[10,      10     ], [22.34375, 19.53125], [33.75,    41.25   ], [50.78125, 64.84375], [80,      80.     ]]),\n",
        "    np.array([[70,   10     ], [55.15625, 26.875  ], [41.25,    40.     ], [29.21875, 38.125  ], [20,      10.     ]]),\n",
        "    np.array([[50,    50.   ], [61.875, 71.875], [55,    75.   ], [55.625, 55.625], [90,    10.   ]]),\n",
        "    np.array([[50,      90.     ], [44.84375, 44.84375], [38.75,    28.75   ], [45.78125, 40.78125], [80,      80.     ]]),\n",
        "]\n",
        "\n",
        "for i,P in enumerate(curve_control_points):\n",
        "    t = np.reshape(np.linspace(0,1,5),(-1,1))\n",
        "    sampled_bezier_points = bezier_decasteljau(t,P)[0,...].T\n",
        "    print(\"Is curve\",i,\"sampled correctly?\",np.allclose(sampled_bezier_points,curve_sample_points[i]))\n",
        "\n",
        "fig,ax = plt.subplots(1,len(curve_control_points),figsize=(16,4))\n",
        "for i,P in enumerate(curve_control_points):\n",
        "    t = np.random.random((1,1))\n",
        "    for j in range(4):\n",
        "        sampled_bezier_points = bezier_decasteljau(t,P,L=j)\n",
        "        ax[i].plot(sampled_bezier_points[:,0],sampled_bezier_points[:,1])\n",
        "        ax[i].scatter(sampled_bezier_points[:,0],sampled_bezier_points[:,1])\n",
        "plt.show()"
      ]
    },
    {
      "cell_type": "markdown",
      "metadata": {
        "id": "6lANeGww28h-"
      },
      "source": [
        "# Q1c Calculating the shortest distance from a point to a cubic Bezier curve (40 marks)\n",
        "\n",
        "Often you'll need to determine the shortest distance to a curve so that's what we're going to do.\n",
        "\n",
        "In this task you will need to find the shortest distance from a point, $x$, and a curve, $y(t)$. The curve is a cubic Bezier, $y$ is a function of the arc parameter, $t$, and is defined by a 4 control points, $P$.\n",
        "\n",
        "The shortest distance between a point and a curve is found by finding the arc parameter value, $t$, that minimises the following equation:\n",
        "\\begin{align}\n",
        "    argmin_t~~D(t) = ||x-y(t)||\n",
        "\\end{align}\n",
        "In order to minimise this equation we must find the roots of it's derivative. \n",
        "\n",
        "For the first part of this question you have to determine the derivative of $D(t)$ with respect to $t$ (e.g. using pen and paper) and then write some code that calculates it's value.\n",
        "\n",
        "The second part involves finding the shortest distance between a point and a cubic Bezier curve. You are tasked with writing an iterative numerical solver that uses the Secant method (also known as Broyden's method) to find a root of the derivative of the distance function, $\\frac{d~D(t)}{dt}$. Given some interval, $[t_l,t_u]$, that contains a root of the function, $f(t) = \\frac{d~D(t)}{dt}$, we can estimate a new value, $t_{new}$ for where the root may exist:\n",
        "\\begin{align}\n",
        "    t_{new} = \\frac{f(t_l)}{f(t_l)-f(t_u)}(t_u-t_l)+t_l\n",
        "\\end{align}\n",
        "\n",
        "After obtaining $t_{new}$ we have to adjust the interval by replacing either $t_u$ or $t_l$ with $t_{new}$. We can do this by sampling the derivative function and then comparing to the values for $t_u$ and $t_l$.\n",
        "\n",
        "We repeat this process multiple times until we are sufficiently close to the root. We stop the search when $|f(t_{new})| < 0.000001$. After finding the root, we must clamp it to the range $[0,1]$ as we do not care about points that are beyond the Bezier curve.\n",
        "\n",
        "There are a few tricks that can be used to speed up the process. Before applying the Secant method you should do a coarse search over the curve to find a smaller interval to search within. During this coarse search you may find that the closest point on the curve is one of its end points, in this case you can skip the iterative search."
      ]
    },
    {
      "cell_type": "code",
      "execution_count": null,
      "metadata": {
        "id": "7q7Ue2Vd2785"
      },
      "outputs": [],
      "source": [
        "def distance_to_point(x,t,P):\n",
        "    #TASK - Calculate the distance from sampled points on a cubic Bezier curve to the queried point (10 marks)\n",
        "    # x is an 1x2 array representing the query point\n",
        "    # t is an Mx1 array representing the arc parameters\n",
        "    # P is an 4x2 array representing the Bezier control points\n",
        "    #Returns dist - an array of length M that gives the distance between the query point and the point on the curve corresponding to each arc parameter in t\n",
        "    dist = np.zeros((t.shape[0],))\n",
        "    return dist\n",
        "\n",
        "def distance_to_point_derivative(x,t,P):\n",
        "    #TASK - Calculate the derivative of the distance function (10 marks)\n",
        "    # x is an 1x2 array representing the query point\n",
        "    # t is an Mx1 array representing the arc parameters\n",
        "    # P is an 4x2 array representing the Bezier control points\n",
        "    #Returns derivative - an array of length M that gives the derivative of the distance function for each arc parameter in t\n",
        "    derivative = np.zeros((t.shape[0],))\n",
        "    return derivative\n",
        "\n",
        "def shortest_distance_to_curve(x,P):\n",
        "    #TASK - Implement a numerical optimiser to find the shortest distance between the cubic Bezier curve and a queried point (20 marks)\n",
        "    #x is an 1x2 array representing the query point\n",
        "    #P is an 4x2 array representing the Bezier control points\n",
        "    #Returns dist - a scalar value representing the shortest distance between the query point and the Bezier curve\n",
        "\n",
        "    #Step 1 - Check arc parameter coarsely, use 10 linearly spaced points (i.e np.linspace(0,1,10))\n",
        "    \n",
        "    #Uncomment and fill in the code\n",
        "    #coarse_t = \n",
        "    #guesses = \n",
        "    #init_guess = \n",
        "    \n",
        "    #Step 2 - Create initial upper and lower bounds using coarse search\n",
        "    #lower_bound = \n",
        "    #upper_bound = \n",
        "\n",
        "    #Step 3 - Calculate derivative values and check if interval contains root\n",
        "    #upper_bound_value = \n",
        "    #lower_boud_value = \n",
        "\n",
        "    #Step 4 - Find the root of the derivative!\n",
        "    #The general logic is as follows:\n",
        "    #Get the values of the derivative at the upper and lower bounds\n",
        "    #Use the Secant method to estimate where the root of the derivative exists (i.e. the point on the curve that closest to the query point)\n",
        "    #Check the derivative at the estimated root\n",
        "    #If the absolute value of the derivative is less than 1e-6 then we can exit, if not then we need to re-iterate\n",
        "    #To re-iterate, either replace the upper of lower bound with this estimated root depending of the sign of the derivative and repeat\n",
        "\n",
        "    #Step 5 - Sanitise solved root, make sure the value is between 0 and 1!\n",
        "    #t_closest =\n",
        "\n",
        "    #Step 6 - Calculate distance\n",
        "    #distance = \n",
        "    return distance,t_closest"
      ]
    },
    {
      "cell_type": "markdown",
      "metadata": {
        "id": "8uXSrafbD5an"
      },
      "source": [
        "# Test your code!\n",
        "\n",
        "Run this cell to test your code. You can do additional tests as well to be more certain about your implementation.\n",
        "\n",
        "We have included a number of ground truth solutions that you can use to verify that your implementation is correct."
      ]
    },
    {
      "cell_type": "code",
      "execution_count": null,
      "metadata": {
        "colab": {
          "base_uri": "https://localhost:8080/"
        },
        "id": "3PU-s1i8LGgV",
        "outputId": "80804953-04b1-4dce-a7e6-559cf2833c5c"
      },
      "outputs": [
        {
          "ename": "NameError",
          "evalue": "name 'distance' is not defined",
          "output_type": "error",
          "traceback": [
            "\u001b[0;31m---------------------------------------------------------------------------\u001b[0m",
            "\u001b[0;31mNameError\u001b[0m                                 Traceback (most recent call last)",
            "\u001b[0;32m<ipython-input-549-de2bc43ac791>\u001b[0m in \u001b[0;36m<module>\u001b[0;34m\u001b[0m\n\u001b[1;32m     27\u001b[0m     \u001b[0mdistances\u001b[0m \u001b[0;34m=\u001b[0m \u001b[0;34m[\u001b[0m\u001b[0;34m]\u001b[0m\u001b[0;34m\u001b[0m\u001b[0;34m\u001b[0m\u001b[0m\n\u001b[1;32m     28\u001b[0m     \u001b[0;32mfor\u001b[0m \u001b[0mj\u001b[0m\u001b[0;34m,\u001b[0m\u001b[0mx\u001b[0m \u001b[0;32min\u001b[0m \u001b[0menumerate\u001b[0m\u001b[0;34m(\u001b[0m\u001b[0mtest_points\u001b[0m\u001b[0;34m)\u001b[0m\u001b[0;34m:\u001b[0m\u001b[0;34m\u001b[0m\u001b[0;34m\u001b[0m\u001b[0m\n\u001b[0;32m---> 29\u001b[0;31m         \u001b[0mdistances\u001b[0m\u001b[0;34m.\u001b[0m\u001b[0mappend\u001b[0m\u001b[0;34m(\u001b[0m\u001b[0mshortest_distance_to_curve\u001b[0m\u001b[0;34m(\u001b[0m\u001b[0mx\u001b[0m\u001b[0;34m,\u001b[0m\u001b[0mP\u001b[0m\u001b[0;34m)\u001b[0m\u001b[0;34m)\u001b[0m\u001b[0;34m\u001b[0m\u001b[0;34m\u001b[0m\u001b[0m\n\u001b[0m\u001b[1;32m     30\u001b[0m     \u001b[0mprint\u001b[0m\u001b[0;34m(\u001b[0m\u001b[0;34m\"Are the distances for curve\"\u001b[0m\u001b[0;34m,\u001b[0m\u001b[0mi\u001b[0m\u001b[0;34m,\u001b[0m\u001b[0;34m\"correct?\"\u001b[0m\u001b[0;34m,\u001b[0m\u001b[0mnp\u001b[0m\u001b[0;34m.\u001b[0m\u001b[0mallclose\u001b[0m\u001b[0;34m(\u001b[0m\u001b[0mdistances\u001b[0m\u001b[0;34m,\u001b[0m\u001b[0mground_truth_distances\u001b[0m\u001b[0;34m[\u001b[0m\u001b[0mi\u001b[0m\u001b[0;34m]\u001b[0m\u001b[0;34m)\u001b[0m\u001b[0;34m)\u001b[0m\u001b[0;34m\u001b[0m\u001b[0;34m\u001b[0m\u001b[0m\n",
            "\u001b[0;32m<ipython-input-548-67db69bf1840>\u001b[0m in \u001b[0;36mshortest_distance_to_curve\u001b[0;34m(x, P)\u001b[0m\n\u001b[1;32m     51\u001b[0m     \u001b[0;31m#Step 6 - Calculate distance\u001b[0m\u001b[0;34m\u001b[0m\u001b[0;34m\u001b[0m\u001b[0;34m\u001b[0m\u001b[0m\n\u001b[1;32m     52\u001b[0m     \u001b[0;31m#distance =\u001b[0m\u001b[0;34m\u001b[0m\u001b[0;34m\u001b[0m\u001b[0;34m\u001b[0m\u001b[0m\n\u001b[0;32m---> 53\u001b[0;31m     \u001b[0;32mreturn\u001b[0m \u001b[0mdistance\u001b[0m\u001b[0;34m,\u001b[0m\u001b[0mt_closest\u001b[0m\u001b[0;34m\u001b[0m\u001b[0;34m\u001b[0m\u001b[0m\n\u001b[0m",
            "\u001b[0;31mNameError\u001b[0m: name 'distance' is not defined"
          ]
        }
      ],
      "source": [
        "curve_control_points = [\n",
        "    np.array([[10,10],[30,10],[30,70],[80,80]]),\n",
        "    np.array([[70,10],[50,30],[30,70],[20,10]]),\n",
        "    np.array([[50,50],[90,90],[10,90],[90,10]]),\n",
        "]\n",
        "\n",
        "test_points = [\n",
        "    np.array([[27,25]]),\n",
        "    np.array([[30,50]]),\n",
        "    np.array([[43,77]]),\n",
        "    np.array([[88,63]]),\n",
        "    np.array([[10,93]]),\n",
        "    np.array([[15,85]]),\n",
        "    np.array([[20,65]]),\n",
        "    np.array([[25,75]]),\n",
        "    np.array([[30,15]]),\n",
        "    np.array([[15,75]])\n",
        "]\n",
        "\n",
        "ground_truth_distances = [\n",
        "    [1.3804113519252021, 7.551952618533779, 14.21198733622006, 18.788294228055936, 48.97339826306313, 39.96758283169489, 23.9814817876366, 25.88734263646652, 8.89482212532327, 33.80377985909253],\n",
        "    [3.5922228632791366, 9.355456489178053, 35.90888742361384, 48.52757110901156, 56.742426136479146, 47.42173270664112, 27.154183047592046, 34.72094623092011, 8.921150307913496, 38.33377180340012],\n",
        "    [33.97057550292606, 20.0, 11.381175393633573, 26.783756919621915, 48.026852871092984, 40.4331230592964, 32.8112016263819, 28.292909880549104, 40.311288741492746, 38.18685364194293]\n",
        "]\n",
        "\n",
        "for i,P in enumerate(curve_control_points):\n",
        "    distances = []\n",
        "    for j,x in enumerate(test_points):\n",
        "        distances.append(shortest_distance_to_curve(x,P))\n",
        "    print(\"Are the distances for curve\",i,\"correct?\",np.allclose(distances,ground_truth_distances[i]))\n"
      ]
    },
    {
      "cell_type": "markdown",
      "metadata": {
        "id": "WxILy1R67XOm"
      },
      "source": [
        "# Q2a Representing 3D objects using implicit functions (20 marks)\n",
        "\n",
        "The second half of the notebook will focus on implicit surfaces. You are tasked with writing code the calculates the values for an implicit sphere and implicit cube.\n",
        "\n",
        "We have broken this question into a number of tasks:\n",
        "\n",
        "\n",
        "1.   Calculate a 3D rotation matrix (5 marks)\n",
        "2.   Convert \"world\" space coordinates into \"local\" space, this simplifies calculating the implicit function values (5 marks)\n",
        "3.   Compute the implicit function and it's gradient for an implicit sphere (5 marks)\n",
        "4.   Compute the implicit function and it's gradient for an implicit cube (5 marks)\n",
        "5.   Convert the gradient from \"local\" space into \"world\" space (included in task 2)\n",
        "\n",
        "Use the following equation to calculate the rotation matrix from a set of rotation angles, $[\\alpha,\\beta,\\gamma]$:\n",
        "\\begin{align} \\\\\n",
        "  R = R_z(\\gamma) \\, R_y(\\beta) \\, R_x(\\alpha) &= \\begin{bmatrix}\n",
        "    \\cos \\gamma & -\\sin \\gamma & 0 \\\\\n",
        "    \\sin \\gamma &  \\cos \\gamma & 0 \\\\\n",
        "     0          &   0          & 1 \\\\\n",
        "  \\end{bmatrix}\\begin{bmatrix}\n",
        "    \\cos \\beta & 0 & \\sin \\beta \\\\\n",
        "     0         & 1 &  0 \\\\\n",
        "   -\\sin \\beta & 0 & \\cos \\beta \\\\\n",
        "  \\end{bmatrix}\\begin{bmatrix}\n",
        "    1 &  0          &   0 \\\\\n",
        "    0 & \\cos \\alpha & -\\sin \\alpha \\\\\n",
        "    0 & \\sin \\alpha &  \\cos \\alpha \\\\\n",
        "  \\end{bmatrix} \\\\\n",
        "  &= \\begin{bmatrix}\n",
        "    \\cos\\beta\\cos\\gamma & \\sin\\alpha\\sin\\beta\\cos\\gamma - \\cos\\alpha\\sin\\gamma & \\cos\\alpha\\sin\\beta\\cos\\gamma + \\sin\\alpha\\sin\\gamma \\\\\n",
        "    \\cos\\beta\\sin\\gamma & \\sin\\alpha\\sin\\beta\\sin\\gamma + \\cos\\alpha\\cos\\gamma & \\cos\\alpha\\sin\\beta\\sin\\gamma - \\sin\\alpha\\cos\\gamma \\\\\n",
        "    -\\sin\\beta          & \\sin\\alpha\\cos\\beta                                  & \\cos\\alpha\\cos\\beta \\\\\n",
        "  \\end{bmatrix} \n",
        "\\end{align}\n",
        "An inverse rotation is just taken as the transpose of the rotation matrix, $R^T$.\n",
        "\n",
        "The following equation describes how to convert from \"world\" space to \"local\" space of an implicit shape with a position, $P$, rotation, $R$, and scale, $S = [S_x,S_y,S_z]$:\n",
        "\\begin{align}\n",
        "    X_{local} = (X-P)R\\odot (1/S)\n",
        "\\end{align}. \\odot indicates the Hadamard product or element-wise multiplication.\n",
        "\n",
        "Use the following function for an implicit sphere, $F_{sphere}$, and it's gradient vector function, $\\nabla F_{sphere}$:\n",
        "\\begin{align}\n",
        "    F_{sphere}(X) =& ||X||-1\\\\\n",
        "    =& \\sqrt{x^2+y^2+z^2} - 1\\\\\n",
        "    \\nabla F_{sphere}(X) =& [\\frac{d F_{sphere}(X)}{dx},\\frac{d F_{sphere}(X)}{dy},\\frac{d F_{sphere}(X)}{dz},]\n",
        "\\end{align}\n",
        "\n",
        "Use the following function for an implicit cube, $F_{cube}$, and it's gradient vector function, $\\nabla F_{cube}$:\n",
        "\\begin{align}\n",
        "    F_{cube}(X) =& max(X)-1\\\\\n",
        "    \\nabla F_{cube}(X) =& [\\frac{d F_{cube}(X)}{dx},\\frac{d F_{cube}(X)}{dy},\\frac{d F_{cube}(X)}{dz},]\n",
        "\\end{align}\n"
      ]
    },
    {
      "cell_type": "code",
      "execution_count": null,
      "metadata": {
        "id": "fXh4Ylv5Hkja"
      },
      "outputs": [
        {
          "ename": "",
          "evalue": "",
          "output_type": "error",
          "traceback": [
            "\u001b[1;31mRunning cells with 'Python 3.8.12 ('CM10313-group5')' requires ipykernel package.\n",
            "\u001b[1;31mRun the following command to install 'ipykernel' into the Python environment. \n",
            "\u001b[1;31mCommand: 'conda install -n CM10313-group5 ipykernel --update-deps --force-reinstall'"
          ]
        }
      ],
      "source": [
        "## The ''ImplicitShape'' class is a base class for all implicit shapes that we will be working with\n",
        "## The ''sample_impl'' methods needs to be overridden in each of implicit shape class\n",
        "## For example, the ImplicitSphere class requires it's own implementation of ''sample_impl''.\n",
        "## NOTE: The self variable refers to the object (as in object oriented programming), you can use it to access the fields of the object from within a function. It's analogous to \"this\" in C++.\n",
        "class ImplicitShape():\n",
        "    def __init__(self,location,scale,rotation_angles,colour):\n",
        "        self.location = location #N,3 numpy array\n",
        "        self.scale = scale #1,3 numpy array representing the scales along each axis - [S_x,S_y,S_z]\n",
        "        self.rotation = self.calc_rotation_matrix(rotation_angles) #3,3 numpy array computed from rotation_angles which contains the angles for [alpha, beta, gamma]\n",
        "        self.colour = colour #1,3 numpy array, RGB\n",
        "    \n",
        "    def calc_rotation_matrix(self,rotation):\n",
        "        ##TASK - Compute a 3D rotation matrix from the rotation vector (5 marks)\n",
        "        #rotation - a 3 element numpy array in the format [alpha, beta, gamma] (see the equation above)\n",
        "        #Returns rotation_matrix - a 3x3 numpy array\n",
        "        rotation_matrix = np.zeros((3,3))\n",
        "\n",
        "        return rotation_matrix\n",
        "\n",
        "    def sample_impl(self,p):\n",
        "        ## This function will be overriden in the child-classes, don't edit it here!\n",
        "        return np.zeros_like(p[:,0:1]),p\n",
        "\n",
        "    def sample(self,X):\n",
        "        #X - an Nx3 numpy array\n",
        "        #Returns (dist, rotated_gradient_vector) - dist is a Nx1 array, rotated_gradient_vector is a Nx3 array\n",
        "\n",
        "        ##TASK - Convert world space coordinates into the object's local space (5 marks)\n",
        "        local_space_coordinates = np.zeros((X.shape[0],3))\n",
        "        ##     \n",
        "\n",
        "        values, gradients = self.sample_impl(local_space_coordinates)  \n",
        "\n",
        "        #TASK - Apply the inverse rotation to the gradient vector (Marks included in converting from world space to local space)\n",
        "        rotated_gradient_vector = np.zeros((X.shape[0],3))\n",
        "        ##\n",
        "\n",
        "        return values, rotated_gradient_vector\n",
        "\n",
        "class ImplicitSphere(ImplicitShape):\n",
        "  def sample_impl(self,X):\n",
        "        ##TASK - Use the local space coordinates to calculate the implicit function value and the gradient vector for an implicit sphere of radius 1, use the above equations. (5 marks)\n",
        "        ## X - a Nx3 array of points in 3D space\n",
        "        ## Returns (function_vals, gradient_vectors) - function_vals is a Nx1 array representing the implicit functions value for each point - gradient_vector is a Nx3 array representing the gradient vector for each point\n",
        "        \n",
        "        function_vals = np.zeros((X.shape[0],1))\n",
        "        gradient_vector = np.zeros((X.shape[0],3))\n",
        "        return function_vals, gradient_vector\n",
        "\n",
        "class ImplicitCube(ImplicitShape):\n",
        "    def sample_impl(self,X):\n",
        "        ##TASK - Use the local space coordinates to calculate the implicit function value and the gradient vector for an implicit cube of size 1, use the above equations. (5 marks)\n",
        "        ## X - a Nx3 array of points in 3D space\n",
        "        ## Returns (function_vals, gradient_vectors) - function_vals is a Nx1 array representing the implicit functions value for each point - gradient_vector is a Nx3 array representing the gradient vector for each point\n",
        "        function_vals = np.zeros((X.shape[0],1))\n",
        "        gradient_vector = np.zeros((X.shape[0],3))\n",
        "        return function_vals, gradient_vector"
      ]
    },
    {
      "cell_type": "markdown",
      "metadata": {
        "id": "QLsAjIeYYbBf"
      },
      "source": [
        "# Test your code\n",
        "\n",
        "Here are a number of tests that check if you completed each of the tasks correctly."
      ]
    },
    {
      "cell_type": "code",
      "execution_count": null,
      "metadata": {
        "colab": {
          "base_uri": "https://localhost:8080/"
        },
        "id": "pehyoRPlYh-b",
        "outputId": "6007dbfc-4967-4ad6-8252-1a713b00291a"
      },
      "outputs": [
        {
          "ename": "",
          "evalue": "",
          "output_type": "error",
          "traceback": [
            "\u001b[1;31mRunning cells with 'Python 3.8.12 ('CM10313-group5')' requires ipykernel package.\n",
            "\u001b[1;31mRun the following command to install 'ipykernel' into the Python environment. \n",
            "\u001b[1;31mCommand: 'conda install -n CM10313-group5 ipykernel --update-deps --force-reinstall'"
          ]
        }
      ],
      "source": [
        "test_shape = ImplicitShape(np.zeros(3),np.ones(3),np.array([0.3,0.2,0.1]),np.zeros(3))\n",
        "ground_truth_rotation = np.array([[ 0.93629336, -0.27509585,  0.21835066],\n",
        " [ 0.28962948,  0.95642509, -0.03695701],\n",
        " [-0.19866933,  0.0978434,   0.97517033]])\n",
        "print(\"Does the rotation matrix match the ground truth? \",np.allclose(ground_truth_rotation,test_shape.rotation))\n",
        "###\n",
        "test_shape = ImplicitShape(np.array([0.1,0.3,0.2]),np.array([[0.2,0.1,0.3]]),np.array([0.3,0.2,0.1]),np.zeros(3))\n",
        "test_points = [\n",
        "    np.array([[-0.5,-0.7,-0.9]]),\n",
        "    np.array([[0.25,0.35,0.45]]),\n",
        "    np.array([[0.5,0.7,0.9]]),\n",
        "    np.array([[-0.25,0.35,-0.45]]),\n",
        "    np.array([[0.25,-0.7,-0.45]]),\n",
        "]\n",
        "ground_truth_vectors = [\n",
        "    np.array([[-1.33885292, -9.37097376, -4.04351884,]]),\n",
        "    np.array([[0.60736852, 0.41525064, 0.81871326,]]),\n",
        "    np.array([[1.256109,   3.67732545, 2.43945729,]]),\n",
        "    np.array([[-1.60157791,  0.59112889, -2.05319929,]]),\n",
        "    np.array([[  2.41508376, -10.10995965,  -2.85229426,]])\n",
        "]\n",
        "\n",
        "sampled_vectors = []\n",
        "for X in test_points:\n",
        "    sampled_vectors.append(test_shape.sample(X)[1])\n",
        "print(\"Are sampled gradient vectors the same as ground truth?\",np.allclose(sampled_vectors,ground_truth_vectors))\n",
        "###\n",
        "test_shape = ImplicitSphere(np.array([[-0.25,-0.25,0.55]]),np.array([[0.75,0.5,0.25]]),np.array([1/np.sqrt(2),1/np.sqrt(2),0]),np.array([[1,1,0]]))\n",
        "test_points = [\n",
        "    np.array([[-0.5,-0.7,-0.9]]),\n",
        "    np.array([[0.25,0.35,0.45]]),\n",
        "    np.array([[0.5,0.7,0.9]]),\n",
        "    np.array([[-0.25,0.35,-0.45]]),\n",
        "    np.array([[0.25,-0.7,-0.45]]),\n",
        "]\n",
        "\n",
        "ground_truth_values = [4.725946616077288, 0.92327392563805, 3.2721916167581586, 1.5566321460449486, 2.2563361046285864]\n",
        "ground_truth_vectors = [\n",
        "    np.array([-0.37025557, -0.3989491 , -0.83889813]), \n",
        "    np.array([0.60749688, 0.6987486 , 0.37775242]), \n",
        "    np.array([0.53006325, 0.59765586, 0.60153134]), \n",
        "    np.array([-0.33846068,  0.1801493 , -0.92357448]), \n",
        "    np.array([ 0.00901549, -0.5310951 , -0.84726389])\n",
        "]\n",
        "sampled_values = []\n",
        "sampled_vectors = []\n",
        "for X in test_points:\n",
        "    sample = test_shape.sample(X)\n",
        "    sampled_values.append(sample[0][0,0])\n",
        "    sampled_vectors.append(sample[1][0,:])\n",
        "print(\"Do the implicit function values from the ImplicitSphere object match the ground truth?\", np.allclose(sampled_values,ground_truth_values))\n",
        "print(\"Do the implicit function gradient vector values from the ImplicitSphere object match the ground truth?\", np.allclose(sampled_vectors,ground_truth_vectors))\n",
        "###\n",
        "test_shape = ImplicitCube(np.array([[-0.25,-0.25,0.55]]),np.array([[0.75,0.5,0.25]]),np.array([1/np.sqrt(2),1/np.sqrt(2),0]),np.array([[1,1,0]]))\n",
        "test_points = [\n",
        "    np.array([[-0.5,-0.7,-0.9]]),\n",
        "    np.array([[0.25,0.35,0.45]]),\n",
        "    np.array([[0.5,0.7,0.9]]),\n",
        "    np.array([[-0.25,0.35,-0.45]]),\n",
        "    np.array([[0.25,-0.7,-0.45]]),\n",
        "]\n",
        "\n",
        "ground_truth_values = [4.662952310746186, 0.6965356734440336, 3.1496983348407737, 1.0281108220209703, 1.8128631170209482]\n",
        "ground_truth_vectors = [\n",
        "    np.array([-0.49388297, -0.42202815, -0.7602446 ]), \n",
        "    np.array([0.49388297, 0.42202815, 0.7602446 ]), \n",
        "    np.array([0.49388297, 0.42202815, 0.7602446 ]), \n",
        "    np.array([-0.49388297, -0.42202815, -0.7602446 ]), \n",
        "    np.array([-0.49388297, -0.42202815, -0.7602446 ])\n",
        "]\n",
        "sampled_values = []\n",
        "sampled_vectors = []\n",
        "for X in test_points:\n",
        "    sample = test_shape.sample(X)\n",
        "    sampled_values.append(sample[0][0,0])\n",
        "    sampled_vectors.append(sample[1][0,:])\n",
        "print(\"Do the implicit function values from the ImplicitCube object match the ground truth?\", np.allclose(sampled_values,ground_truth_values))\n",
        "print(\"Do the implicit function gradient vector values from the ImplicitCube object match the ground truth?\", np.allclose(sampled_vectors,ground_truth_vectors))"
      ]
    },
    {
      "cell_type": "markdown",
      "metadata": {
        "id": "vHC7D1h1Wgyc"
      },
      "source": [
        "# Q2b Applying lighting to 3D objects (10 marks)\n",
        "\n",
        "By computing a normal map we can easily apply shading to the diffuse map so it adds some depth to it.\n",
        "\n",
        "Lambertian shading produces a shaded map, $C$, from the normal map, $N$, light direction, $L$, and the diffuse map, $C_D$. The following equation describes the method:\n",
        "\\begin{align}\n",
        "    C = C_D \\odot max(min((N\\cdot L),1),0)\n",
        "\\end{align}"
      ]
    },
    {
      "cell_type": "code",
      "execution_count": null,
      "metadata": {
        "colab": {
          "base_uri": "https://localhost:8080/"
        },
        "id": "_ohwh8XLWgsM",
        "outputId": "d5f689a6-901b-4556-a959-04cd6a3f69f8"
      },
      "outputs": [
        {
          "ename": "",
          "evalue": "",
          "output_type": "error",
          "traceback": [
            "\u001b[1;31mRunning cells with 'Python 3.8.12 ('CM10313-group5')' requires ipykernel package.\n",
            "\u001b[1;31mRun the following command to install 'ipykernel' into the Python environment. \n",
            "\u001b[1;31mCommand: 'conda install -n CM10313-group5 ipykernel --update-deps --force-reinstall'"
          ]
        }
      ],
      "source": [
        "def apply_lambertian_shading(light_vector,diffuse_map,normal_map):\n",
        "    ##TASK - Implement Lambertian shading here\n",
        "    ## light_vector is a 3 element array representing the direction and strength of the light\n",
        "    ## diffuse_map is a HxWx3 numpy array representing the diffuse map from some renderer\n",
        "    ## normal_map is a HxWx3 numpy array representing the normal map from some renderer\n",
        "    ## Returns - shaded_output - a HxWx3 numpy array\n",
        "    shaded_output = np.zeros_lke(diffuse_map)\n",
        "    ##\n",
        "    return shaded_output\n",
        "\n",
        "test_lights = [\n",
        "    np.array([ 0.62178587,  0.26274321, -0.73779865]),\n",
        "    np.array([ 0.56553381,  0.32635988, -0.75740295]),\n",
        "    np.array([ 0.09747381,  0.58710638, -0.80361891]),\n",
        "    np.array([ 0.05533719,  0.26836935, -0.96172437]),\n",
        "    np.array([ 0.43513414,  0.63078733, -0.64246739]),\n",
        "]\n",
        "\n",
        "test_diffuse = np.array([[[0.5,  1.,   0.25],\n",
        "  [0.5,  1.,   0.25]],\n",
        "\n",
        " [[0.5,  1.,   0.25],\n",
        "  [0.5,  1.,   0.25]]]),\n",
        "\n",
        "\n",
        "test_normals = np.array([[[ 0.05396848, -0.65815722, -0.75094372],\n",
        "  [ 0.05396848, -0.65815722, -0.75094372]],\n",
        " [[ 0.05396848, -0.65815722, -0.75094372],\n",
        "  [ 0.05396848, -0.65815722, -0.75094372]]])\n",
        "\n",
        "ground_truths = [\n",
        "    np.array([[[0.20733788, 0.41467576, 0.10366894],\n",
        "  [0.20733788, 0.41467576, 0.10366894]],\n",
        " [[0.20733788, 0.41467576, 0.10366894],\n",
        "  [0.20733788, 0.41467576, 0.10366894]]]),\n",
        "    np.array([[[0.19224594, 0.38449188, 0.09612297],\n",
        "  [0.19224594, 0.38449188, 0.09612297]],\n",
        " [[0.19224594, 0.38449188, 0.09612297],\n",
        "  [0.19224594, 0.38449188, 0.09612297]]]),\n",
        "    np.array([[[0.11116239, 0.22232479, 0.0555812 ],\n",
        "  [0.11116239, 0.22232479, 0.0555812 ]],\n",
        " [[0.11116239, 0.22232479, 0.0555812 ],\n",
        "  [0.11116239, 0.22232479, 0.0555812 ]]]),\n",
        "    np.array([[[0.27427906, 0.54855812, 0.13713953],\n",
        "  [0.27427906, 0.54855812, 0.13713953]],\n",
        " [[0.27427906, 0.54855812, 0.13713953],\n",
        "  [0.27427906, 0.54855812, 0.13713953]]]),\n",
        "    np.array([[[0.04539157, 0.09078315, 0.02269579],\n",
        "  [0.04539157, 0.09078315, 0.02269579]],\n",
        " [[0.04539157, 0.09078315, 0.02269579],\n",
        "  [0.04539157, 0.09078315, 0.02269579]]]),\n",
        "]\n",
        "\n",
        "test_passed = []\n",
        "for L,GT in zip(test_lights,ground_truths):\n",
        "    test_passed.append(np.allclose(apply_lambertian_shading(L,test_diffuse,test_normals),GT))\n",
        "print(\"Did all tests pass?\",np.all(test_passed))"
      ]
    },
    {
      "cell_type": "markdown",
      "metadata": {
        "id": "uc69Ek6L2Ewx"
      },
      "source": [
        "# Rendering Bezier Curves using distance fields (self-assessed)\n",
        "\n",
        "Note: This question is self-assessed and does not contribute to the marks of the notebook\n",
        "\n",
        "So far we have rendered Bezier curves by sampling many points along the curve and plotting them. An alternative way to render them is to use distance fields; for each point of the canvas we determine the distance to the Bezier curve and check if that distance is less than the width of the line we want to draw.\n",
        "\n",
        "We have included a simple renderer computes the distance field for a set of Bezier curves, you can stylise the output by changing the ''field function''. We have given a few examples of field functions but you are free to experiment."
      ]
    },
    {
      "cell_type": "code",
      "execution_count": null,
      "metadata": {
        "colab": {
          "base_uri": "https://localhost:8080/"
        },
        "id": "vELFMpB92DB-",
        "outputId": "a5b3b97c-fdd7-49a3-c883-813f6a9b09c4"
      },
      "outputs": [
        {
          "ename": "",
          "evalue": "",
          "output_type": "error",
          "traceback": [
            "\u001b[1;31mRunning cells with 'Python 3.8.12 ('CM10313-group5')' requires ipykernel package.\n",
            "\u001b[1;31mRun the following command to install 'ipykernel' into the Python environment. \n",
            "\u001b[1;31mCommand: 'conda install -n CM10313-group5 ipykernel --update-deps --force-reinstall'"
          ]
        }
      ],
      "source": [
        "# ##COMMENT THIS OUT PRIOR TO SUBMITTING TO PREVENT TIMOUTS!\n",
        "\n",
        "# #Define some bezier curves\n",
        "# curve_control_points = [\n",
        "#     np.array([[10,50],[30,10],[30,70],[80,80]]),\n",
        "#     np.array([[20,70],[50,30],[30,70],[90,30]]),\n",
        "#     np.array([[50,90],[50,10],[10,10],[80,20]]),\n",
        "# ]\n",
        "\n",
        "# #define canvas parameters\n",
        "# resolution = 250 #Increase this for higher quality renders, but will be slower!\n",
        "# canvas_u = np.linspace(0,100,resolution)\n",
        "# canvas_v = np.linspace(0,100,resolution)\n",
        "\n",
        "# #initialise array for distance fields\n",
        "# curve_distance_fields = np.zeros((resolution,resolution,len(curve_control_points)))\n",
        "\n",
        "# #for each curve\n",
        "# for i,control_points in enumerate(curve_control_points):\n",
        "#     print(f\"Progress: {i/len(curve_control_points)}\")\n",
        "#     #for each point in the canvas\n",
        "#     for y,u in enumerate(canvas_u):\n",
        "#         for x,v in enumerate(canvas_v):\n",
        "#             P = np.array([[u,v]])\n",
        "#             #calculate the shortest distance from the point in the canvas to the curve\n",
        "#             curve_distance_fields[y,x,i] = shortest_distance_to_curve(P,control_points)\n",
        "\n",
        "# ## Note: We don't normally do it like this as it's quite slow. It's been implemented it like this to demonstrate the point.\n",
        "# ## In practice a lot of optimisations are used to make this run faster, that would obviously make the code much longer and somewhat opaque"
      ]
    },
    {
      "cell_type": "markdown",
      "metadata": {
        "id": "j5CFSKzyNWqk"
      },
      "source": [
        "# Render the distance field\n",
        "\n",
        "By separating the computation and rendering of the distance field we can save a lot of time. We've included a few examples of how distance fields can be rendered to produce different stylistic effects."
      ]
    },
    {
      "cell_type": "code",
      "execution_count": null,
      "metadata": {
        "colab": {
          "base_uri": "https://localhost:8080/",
          "height": 707
        },
        "id": "OtbL8qLVCmX7",
        "outputId": "5c989a49-c4ee-40cb-f222-2fbe291fded5"
      },
      "outputs": [
        {
          "ename": "",
          "evalue": "",
          "output_type": "error",
          "traceback": [
            "\u001b[1;31mRunning cells with 'Python 3.8.12 ('CM10313-group5')' requires ipykernel package.\n",
            "\u001b[1;31mRun the following command to install 'ipykernel' into the Python environment. \n",
            "\u001b[1;31mCommand: 'conda install -n CM10313-group5 ipykernel --update-deps --force-reinstall'"
          ]
        }
      ],
      "source": [
        "# ##COMMENT THIS OUT PRIOR TO SUBMITTING TO PREVENT TIMOUTS!\n",
        "\n",
        "# line_width = 10 #desired line width\n",
        "\n",
        "\n",
        "# signed_distance_field = line_width/2 - np.min(curve_distance_fields,-1) #Positive value means inside the bounds of the rendered line\n",
        "\n",
        "# ## signed_distance_field = line_width/2 - 1/(np.mean(1/(curve_distance_fields+1e-6),-1)+1e-6) ## ALTERNATIVE SIGNED DISTANCE FIELD\n",
        "\n",
        "# fig,ax = plt.subplots(nrows=1, ncols=3, figsize=(40,40)) #create figures\n",
        "\n",
        "# edge_hardness = 1 #desired \"hardness\" at edges, higher values creates higher sharper edges\n",
        "# plain_lines = 1/(1 + np.exp(-edge_hardness*signed_distance_field)) #Use sigmoid function to render plain lines\n",
        "# ax[0].imshow(plain_lines)\n",
        "\n",
        "# omega = 3 #Adjust this to change the pattern!\n",
        "# multi_lines = plain_lines*np.clip(np.cos(omega*signed_distance_field),0,1) #Use cosine to make geometric patterns\n",
        "# ax[1].imshow(multi_lines)\n",
        "\n",
        "# scalar = 0.5 #Adjust this to change the pattern!\n",
        "# out_lines = plain_lines*np.exp(-signed_distance_field*scalar) #Use gaussian function to fade centre of lines\n",
        "# ax[2].imshow(out_lines)\n",
        "\n",
        "# plt.show()"
      ]
    },
    {
      "cell_type": "markdown",
      "metadata": {
        "id": "zOVac4d4Wahy"
      },
      "source": [
        "# Rendering 3D objects using ray tracing (Self assessed)\n",
        "\n",
        "We have included a naive implementation of a ray tracing renderer. You can use it to render implicit shapes. Run this cell to produce a diffuse (or colour) map, normal map and depth map from a set of ImplicitShape objects.\n",
        "\n",
        "The output from the ray tracer is not shaded, so we use Lambertian shading to apply some lighting to the renders.\n",
        "\n",
        "This section has been designed so you can easily make changes and play around with it. You can apply a lens distortion, change it from orthographic to perspective camera. You could use the depth along with a convolutional filter to blur objects that are far away. The possibilities are endless!\n",
        "\n",
        "The way we have rendered the 3D scene is known as \"deferred rendering\". We compute all the individual components and then combine them at the end. This allows for complicated effects to be produced. You can apply filters to any of the components to create some very exotic rendering styles."
      ]
    },
    {
      "cell_type": "code",
      "execution_count": null,
      "metadata": {
        "colab": {
          "base_uri": "https://localhost:8080/",
          "height": 1000
        },
        "id": "1j0vM5-8Wa__",
        "outputId": "a3b6a304-d0e5-44c2-8089-b9e07a438669"
      },
      "outputs": [
        {
          "ename": "",
          "evalue": "",
          "output_type": "error",
          "traceback": [
            "\u001b[1;31mRunning cells with 'Python 3.8.12 ('CM10313-group5')' requires ipykernel package.\n",
            "\u001b[1;31mRun the following command to install 'ipykernel' into the Python environment. \n",
            "\u001b[1;31mCommand: 'conda install -n CM10313-group5 ipykernel --update-deps --force-reinstall'"
          ]
        }
      ],
      "source": [
        "# ##COMMENT THIS OUT PRIOR TO SUBMITTING TO PREVENT TIMOUTS!\n",
        "\n",
        "# def ray_trace(ray_density, shapes):\n",
        "#     #Initialise arrays, we later reshape into a 2D image\n",
        "#     diffuse_map = np.zeros((ray_density*ray_density,3))\n",
        "#     normal_map = np.zeros((ray_density*ray_density,3))\n",
        "#     depth_map = np.zeros((ray_density*ray_density,3))\n",
        "\n",
        "#     #Setting up ray starting coordinate\n",
        "#     u_points = np.linspace(-1,1,ray_density)\n",
        "#     v_points = np.linspace(-1,1,ray_density)\n",
        "\n",
        "#     u_idx = np.arange(0,ray_density)\n",
        "#     v_idx = np.arange(0,ray_density)\n",
        "\n",
        "#     u,v = np.meshgrid(u_points,v_points)\n",
        "#     w = np.zeros_like(u)-1\n",
        "\n",
        "#     U_idx, V_idx = np.meshgrid(u_idx,v_idx)\n",
        "\n",
        "#     UV = np.stack([u,v,w],-1)\n",
        "\n",
        "#     #Initalising rays\n",
        "#     alive_rays = np.reshape(UV,(-1,3))\n",
        "#     alive_rays_idx = np.arange(0,ray_density**2)\n",
        "\n",
        "#     epsilon = (1/ray_density)**2\n",
        "#     while True: #Stopping condition are assessed at the end of the loop\n",
        "#         num_alive_rays = alive_rays.shape[0]\n",
        "#         progress = 100*(1-num_alive_rays/(ray_density**2))\n",
        "\n",
        "#         #Sample each object at each ray\n",
        "#         walk_distances = np.ones((num_alive_rays,1))*10000\n",
        "#         for shape in shapes:\n",
        "#             values,gradient_vectors = shape.sample(alive_rays)\n",
        "#             distances = values*(np.min(shape.scale)+1e-6) #We multiple the values by the smallest scale value to give a distance that the ray can be walked forward by\n",
        "#             has_ray_hit = distances<epsilon\n",
        "#             hit_ray_indices = alive_rays_idx[has_ray_hit[:,0]]\n",
        "#             diffuse_map[hit_ray_indices] = shape.colour\n",
        "#             normal_map[hit_ray_indices,:] = gradient_vectors[has_ray_hit[:,0],:]\n",
        "#             depth_map[hit_ray_indices,:] = alive_rays[has_ray_hit[:,0],:]\n",
        "#             still_alive = np.bitwise_not(has_ray_hit)[:,0]\n",
        "            \n",
        "#             num_alive_rays = np.sum(still_alive*1.0)\n",
        "#             if num_alive_rays == 0:\n",
        "#                 break\n",
        "\n",
        "#             #We remove rays that have hit a surface to speed up rendering!\n",
        "#             walk_distances = np.minimum(walk_distances,distances)#We want to keep the shortest walk distance for each ray. It is minimised over the set of shapes\n",
        "#             walk_distances = walk_distances[still_alive,:]\n",
        "#             alive_rays = alive_rays[still_alive,:]\n",
        "#             alive_rays_idx = alive_rays_idx[still_alive]\n",
        "        \n",
        "#         if num_alive_rays == 0:\n",
        "#             break\n",
        "        \n",
        "#         #We walk the rays forward by the smallest distance we observed in the implicit functions\n",
        "#         alive_rays[:,2] += walk_distances[:,0]\n",
        "\n",
        "#         #We remove rays that have hit the outer bounding box to speed up rendering!\n",
        "#         is_ray_in_bounds = alive_rays[:,2]<1.0\n",
        "#         walk_distances = walk_distances[is_ray_in_bounds,:]\n",
        "#         alive_rays = alive_rays[is_ray_in_bounds,:]\n",
        "#         alive_rays_idx = alive_rays_idx[is_ray_in_bounds]\n",
        "\n",
        "#         num_alive_rays = np.sum(is_ray_in_bounds*1.0)\n",
        "#         if num_alive_rays == 0:\n",
        "#             break\n",
        "#     diffuse_map = np.reshape(diffuse_map,(ray_density,ray_density,3))\n",
        "#     normal_map = np.reshape(normal_map,(ray_density,ray_density,3))\n",
        "#     depth_map = np.reshape(depth_map,(ray_density,ray_density,3))\n",
        "        \n",
        "#     return diffuse_map, normal_map,depth_map\n",
        "\n",
        "# shapes = [\n",
        "#     ImplicitSphere(np.array([[-0.25,-0.25,0.55]]),np.array([[0.75,0.5,0.25]]),np.array([1/np.sqrt(2),1/np.sqrt(2),0]),np.array([[1,1,0]])),\n",
        "#     ImplicitSphere(np.array([[0.5,-0.5,0]]),np.array([[0.25,0.25,0.5]]),np.array([1/np.sqrt(2),1/np.sqrt(2),0]),np.array([[0.25,1,0.5]])),\n",
        "#     ImplicitCube(np.array([[0.3,0.5,-0.25]]),np.array([[0.5,0.25,0.25]]),np.array([1/np.sqrt(2),1/np.sqrt(2),1/np.sqrt(2)]),np.array([[1,0.71,1]])),\n",
        "#     ImplicitCube(np.array([[-0.3,0.3,0]]),np.array([[0.25,0.5,0.25]]),np.array([2/np.sqrt(2),1/np.sqrt(2),2/np.sqrt(2)]),np.array([[0.5,1,0.25]]))\n",
        "# ]\n",
        "\n",
        "# resolution = 100 #Increase this for better quality renders!\n",
        "# diffuse_map, normal_map, depth_map = ray_trace(resolution,shapes)\n",
        "\n",
        "# fig,ax = plt.subplots(1,3,figsize=(30,10))\n",
        "# ax[0].set_title(\"Diffuse map\")\n",
        "# ax[0].imshow(diffuse_map)\n",
        "# ax[1].set_title(\"Normal map\")\n",
        "# ax[1].imshow(0.5*(1+normal_map))\n",
        "# ax[2].set_title(\"Depth map\")\n",
        "# ax[2].imshow(depth_map[:,:,2])\n",
        "# plt.show()\n",
        "\n",
        "\n",
        "# ##APPLY LIGHTING\n",
        "# num_lights = 3\n",
        "# fig,ax=plt.subplots(num_lights,num_lights,figsize=(20,20))\n",
        "# print(\"Shaded outputs\")\n",
        "# for i in range(num_lights):\n",
        "#     for j in range(num_lights):\n",
        "#         light_vector = np.random.random((3,))\n",
        "#         light_vector[2] = -1\n",
        "#         light_vector = light_vector/(np.linalg.norm(light_vector)+1e-6)\n",
        "#         shaded_output = apply_lambertian_shading(light_vector,diffuse_map,normal_map)\n",
        "#         ax[i,j].imshow(shaded_output)\n",
        "# plt.show()"
      ]
    }
  ],
  "metadata": {
    "colab": {
      "provenance": []
    },
    "kernelspec": {
      "display_name": "Python 3.8.8 ('base')",
      "language": "python",
      "name": "python3"
    },
    "language_info": {
      "codemirror_mode": {
        "name": "ipython",
        "version": 3
      },
      "file_extension": ".py",
      "mimetype": "text/x-python",
      "name": "python",
      "nbconvert_exporter": "python",
      "pygments_lexer": "ipython3",
      "version": "3.8.8"
    },
    "vscode": {
      "interpreter": {
        "hash": "0e2b719899ff62c1098c81755ab3241766bf44aaa6c3e73544c929622077864a"
      }
    }
  },
  "nbformat": 4,
  "nbformat_minor": 0
}
